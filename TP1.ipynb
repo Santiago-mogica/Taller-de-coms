{
 "cells": [
  {
   "cell_type": "code",
   "execution_count": 87,
   "metadata": {
    "colab": {
     "base_uri": "https://localhost:8080/",
     "height": 35
    },
    "executionInfo": {
     "elapsed": 7,
     "status": "ok",
     "timestamp": 1757438290722,
     "user": {
      "displayName": "Sergio Aguirre Godoy",
      "userId": "15816918925180247082"
     },
     "user_tz": 180
    },
    "id": "BJ7loBAe2npb",
    "outputId": "3118c5e9-2b5c-4777-de82-3614e947e00a"
   },
   "outputs": [],
   "source": [
    "from collections import Counter\n",
    "import numpy as np\n",
    "import os\n",
    "# Montar Google Drive\n",
    "#drive.mount('/content/drive')"
   ]
  },
  {
   "cell_type": "markdown",
   "metadata": {
    "id": "55TX2ADnDph_"
   },
   "source": [
    " ## Crear archivo input"
   ]
  },
  {
   "cell_type": "code",
   "execution_count": 88,
   "metadata": {
    "colab": {
     "base_uri": "https://localhost:8080/"
    },
    "executionInfo": {
     "elapsed": 6,
     "status": "ok",
     "timestamp": 1757448108705,
     "user": {
      "displayName": "Sergio Aguirre Godoy",
      "userId": "15816918925180247082"
     },
     "user_tz": 180
    },
    "id": "ICZv2TNIDXFw",
    "outputId": "e218f6bd-c190-4c4d-f20d-d9d0723b4ba0"
   },
   "outputs": [
    {
     "name": "stdout",
     "output_type": "stream",
     "text": [
      "Archivo input creado\n"
     ]
    }
   ],
   "source": [
    "# Crear un archivo de texto llamado \"input.txt\"\n",
    "\n",
    "contenido = \"Oíd mortales el grito sagrado libertad libertad libertad oíd el ruido de rotas cadenas ved en trono a la noble igualdad se levanta a la faz de la tierra una nueva y gloriosa nación coronada su sien de laureles y a su planta rendido un león sean eternos los laureles que supimos conseguir coronados de gloria vivamos o juremos con gloria morir ved el trono a la noble igualdad ya su trono dignísimo abrieron las provincias unidas del sur y los libres del mundo responden al gran pueblo argentino salud al gran pueblo argentino salud y los libres del mundo responden al gran pueblo argentino salud\"\n",
    "\n",
    "with open(\"input.txt\", \"w\", encoding=\"utf-8\") as archivo:\n",
    "    archivo.write(contenido)\n",
    "\n",
    "print(\"Archivo input creado\")"
   ]
  },
  {
   "cell_type": "markdown",
   "metadata": {
    "id": "SGek2Fum5Xzp"
   },
   "source": [
    "# Funciones"
   ]
  },
  {
   "cell_type": "code",
   "execution_count": 89,
   "metadata": {
    "id": "KeFOvEHT6Ylm"
   },
   "outputs": [],
   "source": [
    "\n",
    "#===================[probabilidades de ocurrencia]==========================\n",
    "def analizar_probabilidades(path_archivo):\n",
    "    \"\"\"\n",
    "    Lee un archivo de texto y devuelve un diccionario con la probabilidad\n",
    "    de aparición de cada carácter en el archivo.\n",
    "\n",
    "    Parámetros:\n",
    "        path_archivo (str): Ruta al archivo de texto a analizar.\n",
    "\n",
    "    Retorna:\n",
    "        dict: Diccionario con caracteres como claves y sus probabilidades como valores.\n",
    "    \"\"\"\n",
    "\n",
    "    if not os.path.isfile(path_archivo):\n",
    "        raise FileNotFoundError(f\"Archivo no encontrado: {path_archivo}\")\n",
    "\n",
    "    with open(path_archivo, 'r', encoding='utf-8') as archivo:\n",
    "        texto = archivo.read()\n",
    "\n",
    "    total_caracteres = len(texto)\n",
    "    if total_caracteres == 0:\n",
    "        return {}\n",
    "\n",
    "    conteo = Counter(texto)\n",
    "\n",
    "    probabilidades = {caracter: conteo[caracter] / total_caracteres for caracter in conteo}\n",
    "\n",
    "    return probabilidades\n",
    "\n",
    "\n",
    "#========================[Entropia]===============================\n",
    "\n",
    "def calcular_entropia(probabilidades):\n",
    "    \"\"\"\n",
    "    Calcula la entropía del texto, a partir de las probabilidades de los caracteres.\n",
    "\n",
    "    Parámetros:\n",
    "        probabilidades (dict): Diccionario con probabilidades de cada carácter.\n",
    "\n",
    "    Retorna:\n",
    "        float: Valor de entropía en bits por símbolo.\n",
    "    \"\"\"\n",
    "    if not probabilidades:\n",
    "        return 0.0\n",
    "\n",
    "    p = np.array(list(probabilidades.values()))\n",
    "\n",
    "    # Evitar log2(0) usando enmascarado\n",
    "    p = p[p > 0]  # Filtra solo valores > 0\n",
    "    entropia = -np.sum(p * np.log2(p))\n",
    "\n",
    "    return entropia\n",
    "\n",
    "\n",
    "\n",
    "#=======================[codificacion Huffman]===============================\n",
    "\n",
    "\n",
    "\n",
    "def construir_arbol_huffman(probabilidades):\n",
    "    \"\"\"\n",
    "    Construye el árbol de Huffman usando listas ordenadas.\n",
    "\n",
    "    Retorna:\n",
    "        nodo raíz del árbol (tupla)\n",
    "    \"\"\"\n",
    "    nodos = [(p, c) for c, p in probabilidades.items()]\n",
    "    nodos.sort(key=lambda x: x[0])  # Orden inicial por probabilidad\n",
    "\n",
    "    while len(nodos) > 1:\n",
    "        # Tomamos los dos nodos con menor probabilidad\n",
    "        p1, c1 = nodos.pop(0)\n",
    "        p2, c2 = nodos.pop(0)\n",
    "\n",
    "        # Fusionamos en un nuevo nodo\n",
    "        nuevo_nodo = (p1 + p2, [c1, c2])\n",
    "\n",
    "        # Insertamos manteniendo la lista ordenada por probabilidad\n",
    "        nodos.append(nuevo_nodo)\n",
    "        nodos.sort(key=lambda x: x[0])\n",
    "\n",
    "    return nodos[0][1]  # Retorna solo la estructura del árbol (sin la probabilidad total)\n",
    "\n",
    "\n",
    "def generar_codigos_huffman(arbol, codigo_actual=\"\", codigos=None):\n",
    "    \"\"\"\n",
    "    Recorre el árbol para asignar códigos binarios a cada carácter.\n",
    "\n",
    "    Parámetros:\n",
    "        arbol: estructura del árbol (puede ser carácter o lista [izq, der])\n",
    "        codigo_actual: cadena binaria recorrida hasta el nodo actual\n",
    "        codigos: diccionario de salida\n",
    "\n",
    "    Retorna:\n",
    "        dict: {carácter: código_binario}\n",
    "    \"\"\"\n",
    "    if codigos is None:\n",
    "        codigos = {}\n",
    "\n",
    "    if isinstance(arbol, str):  # es una hoja\n",
    "        codigos[arbol] = codigo_actual\n",
    "    else:\n",
    "        generar_codigos_huffman(arbol[0], codigo_actual + \"0\", codigos)\n",
    "        generar_codigos_huffman(arbol[1], codigo_actual + \"1\", codigos)\n",
    "\n",
    "    return codigos\n",
    "\n",
    "\n",
    "def codificar_huffman(probabilidades):\n",
    "    \"\"\"\n",
    "    Implementa Huffman.\n",
    "\n",
    "    Parámetros:\n",
    "        probabilidades (dict): {carácter: probabilidad}\n",
    "\n",
    "    Retorna:\n",
    "        dict: {carácter: código_binario}\n",
    "    \"\"\"\n",
    "    arbol = construir_arbol_huffman(probabilidades)\n",
    "    codigos = generar_codigos_huffman(arbol)\n",
    "    return codigos\n",
    "\n",
    "\n",
    "def huffmanenco(texto, codigos):\n",
    "    \"\"\"\n",
    "    Codifica el texto original usando el código de Huffman.\n",
    "\n",
    "    Parámetros:\n",
    "        texto (str): Texto original.\n",
    "        codigos (dict): Diccionario {carácter: código_binario}\n",
    "\n",
    "    Retorna:\n",
    "        list: Lista de cadenas binarias correspondientes a cada carácter.\n",
    "    \"\"\"\n",
    "    codificado = [codigos[char] for char in texto if char in codigos]\n",
    "    return codificado\n",
    "\n",
    "\n",
    "def huffmandeco(mensaje_binario, codigos):\n",
    "    \"\"\"\n",
    "    Decodifica un mensaje binario usando el diccionario de códigos de Huffman.\n",
    "\n",
    "    Parámetros:\n",
    "        mensaje_binario (str): Cadena de bits completa.\n",
    "        codigos (dict): Diccionario {carácter: código_binario}\n",
    "\n",
    "    Retorna:\n",
    "        list: Lista de caracteres decodificados.\n",
    "    \"\"\"\n",
    "    # Invertimos el diccionario para buscar código -> carácter\n",
    "    codigos_invertidos = {v: k for k, v in codigos.items()}\n",
    "\n",
    "    texto_decodificado = []\n",
    "    buffer = \"\"\n",
    "\n",
    "    for bit in mensaje_binario:\n",
    "        buffer += bit\n",
    "        if buffer in codigos_invertidos:\n",
    "            texto_decodificado.append(codigos_invertidos[buffer])\n",
    "            buffer = \"\"  # Reiniciar para buscar el siguiente código\n",
    "\n",
    "    return texto_decodificado\n",
    "\n",
    "#====================[Calculo de longitudes]=======================\n",
    "\n",
    "def calcular_longitudes_codigo(probabilidades, codigos):\n",
    "    \"\"\"\n",
    "    Calcula la longitud mínima y promedio del código de Huffman.\n",
    "\n",
    "    Parámetros:\n",
    "        probabilidades (dict): {carácter: probabilidad}\n",
    "        codigos (dict): {carácter: código binario}\n",
    "\n",
    "    Retorna:\n",
    "        tuple: (longitud_minima, longitud_promedio)\n",
    "    \"\"\"\n",
    "    longitudes = {c: len(codigos[c]) for c in codigos}\n",
    "\n",
    "    # Longitud mínima\n",
    "    longitud_minima = min(longitudes.values())\n",
    "\n",
    "    # Longitud promedio (esperada)\n",
    "    p = np.array([probabilidades[c] for c in codigos])\n",
    "    l = np.array([longitudes[c] for c in codigos])\n",
    "    longitud_promedio = np.sum(p * l)\n",
    "\n",
    "    return longitud_minima, longitud_promedio\n",
    "\n",
    "\n",
    "#========[Guardar archivo de texto]=======\n",
    "def guardar_texto_salida(nombre_archivo, caracteres):\n",
    "    \"\"\"\n",
    "    Guarda una lista de caracteres en un archivo de texto.\n",
    "\n",
    "    Parámetros:\n",
    "        nombre_archivo (str): Nombre del archivo a guardar.\n",
    "        caracteres (list): Lista de caracteres (texto decodificado).\n",
    "    \"\"\"\n",
    "    with open(nombre_archivo, 'w', encoding='utf-8') as f:\n",
    "        f.write(''.join(caracteres))\n"
   ]
  },
  {
   "cell_type": "markdown",
   "metadata": {
    "id": "XJJlXWPePlG5"
   },
   "source": [
    "# Codificacion de fuente"
   ]
  },
  {
   "cell_type": "code",
   "execution_count": 90,
   "metadata": {
    "colab": {
     "base_uri": "https://localhost:8080/"
    },
    "executionInfo": {
     "elapsed": 5,
     "status": "ok",
     "timestamp": 1757438346291,
     "user": {
      "displayName": "Sergio Aguirre Godoy",
      "userId": "15816918925180247082"
     },
     "user_tz": 180
    },
    "id": "RBw_8mbUnBH0",
    "outputId": "459752a0-03eb-4ca1-8121-45df671c3826"
   },
   "outputs": [
    {
     "name": "stdout",
     "output_type": "stream",
     "text": [
      "c:\\Users\\mogic\\Git_repos\\Taller-de-coms\n",
      "['.git', 'codes.csv', 'Informe.docx', 'input.txt', 'output.txt', 'TP1.ipynb']\n"
     ]
    }
   ],
   "source": [
    "import os\n",
    "print(os.getcwd())         # debería dar '/content'\n",
    "print(os.listdir())        # lista archivos en /content"
   ]
  },
  {
   "cell_type": "code",
   "execution_count": 91,
   "metadata": {
    "colab": {
     "base_uri": "https://localhost:8080/"
    },
    "executionInfo": {
     "elapsed": 23,
     "status": "ok",
     "timestamp": 1757438505681,
     "user": {
      "displayName": "Sergio Aguirre Godoy",
      "userId": "15816918925180247082"
     },
     "user_tz": 180
    },
    "id": "YX6QQ3MV8kSa",
    "outputId": "2b3e5c61-5f28-4a27-860b-a6531641ed08"
   },
   "outputs": [
    {
     "name": "stdout",
     "output_type": "stream",
     "text": [
      "{'O': 0.0016806722689075631, 'í': 0.005042016806722689, 'd': 0.05714285714285714, ' ': 0.17647058823529413, 'm': 0.013445378151260505, 'o': 0.08067226890756303, 'r': 0.06722689075630252, 't': 0.02689075630252101, 'a': 0.0957983193277311, 'l': 0.07226890756302522, 'e': 0.08403361344537816, 's': 0.058823529411764705, 'g': 0.025210084033613446, 'i': 0.04873949579831933, 'b': 0.018487394957983194, 'u': 0.04201680672268908, 'c': 0.011764705882352941, 'n': 0.07058823529411765, 'v': 0.011764705882352941, 'f': 0.0016806722689075631, 'z': 0.0016806722689075631, 'y': 0.008403361344537815, 'ó': 0.0033613445378151263, 'p': 0.013445378151260505, 'q': 0.0016806722689075631, 'j': 0.0016806722689075631}\n"
     ]
    }
   ],
   "source": [
    "# calculo de probabilidades de ocurrencia\n",
    "ruta = \"input.txt\"          # mismo directorio que el .ipynb\n",
    "\n",
    "probabilidades = analizar_probabilidades(ruta)\n",
    "print(probabilidades)"
   ]
  },
  {
   "cell_type": "code",
   "execution_count": 92,
   "metadata": {
    "colab": {
     "base_uri": "https://localhost:8080/"
    },
    "executionInfo": {
     "elapsed": 5,
     "status": "ok",
     "timestamp": 1757438520569,
     "user": {
      "displayName": "Sergio Aguirre Godoy",
      "userId": "15816918925180247082"
     },
     "user_tz": 180
    },
    "id": "fXDjCJCNfYCU",
    "outputId": "3d0fc7e1-6cf3-44f7-b495-83357dec1d3c"
   },
   "outputs": [
    {
     "name": "stdout",
     "output_type": "stream",
     "text": [
      "Entropía: 3.9458 bits/símbolo\n"
     ]
    }
   ],
   "source": [
    "H = calcular_entropia(probabilidades)\n",
    "print(f\"Entropía: {H:.4f} bits/símbolo\")"
   ]
  },
  {
   "cell_type": "code",
   "execution_count": 93,
   "metadata": {
    "id": "WQSkbHWauO8_"
   },
   "outputs": [],
   "source": [
    "codigos = codificar_huffman(probabilidades)\n",
    "\n",
    "# arma un csv de la tabla\n",
    "ruta_csv = \"codes.csv\"\n",
    "\n",
    "with open(ruta_csv, 'w', encoding='utf-8') as archivo:\n",
    "    archivo.write(\"Simbolo,Probabilidad,Codigo\\n\")  # cabecera del CSV\n",
    "    for caracter in probabilidades:\n",
    "        prob = probabilidades[caracter]\n",
    "        codigo = codigos.get(caracter, \"\")\n",
    "        archivo.write(f\"{caracter},{prob:.4f},{codigo}\\n\")"
   ]
  },
  {
   "cell_type": "code",
   "execution_count": 94,
   "metadata": {
    "colab": {
     "base_uri": "https://localhost:8080/"
    },
    "executionInfo": {
     "elapsed": 16,
     "status": "ok",
     "timestamp": 1757438679630,
     "user": {
      "displayName": "Sergio Aguirre Godoy",
      "userId": "15816918925180247082"
     },
     "user_tz": 180
    },
    "id": "h7D9K8jGzWfh",
    "outputId": "6c100b09-2b29-4ba0-9da4-f5ed37aa8765"
   },
   "outputs": [
    {
     "name": "stdout",
     "output_type": "stream",
     "text": [
      "Longitud mínima del código: 3 bits\n",
      "Longitud promedio del código: 3.9916 bits/símbolo\n"
     ]
    }
   ],
   "source": [
    "\n",
    "l_min, l_prom = calcular_longitudes_codigo(probabilidades, codigos)\n",
    "\n",
    "print(f\"Longitud mínima del código: {l_min} bits\")\n",
    "print(f\"Longitud promedio del código: {l_prom:.4f} bits/símbolo\")"
   ]
  },
  {
   "cell_type": "code",
   "execution_count": 95,
   "metadata": {
    "colab": {
     "base_uri": "https://localhost:8080/"
    },
    "executionInfo": {
     "elapsed": 18,
     "status": "ok",
     "timestamp": 1757438700856,
     "user": {
      "displayName": "Sergio Aguirre Godoy",
      "userId": "15816918925180247082"
     },
     "user_tz": 180
    },
    "id": "YGThKFVL1rOI",
    "outputId": "9a497053-3039-4d59-cd6e-f5f2939a8710"
   },
   "outputs": [
    {
     "name": "stdout",
     "output_type": "stream",
     "text": [
      "{'e': '000', 'a': '001', 'i': '0100', 'g': '01010', 'v': '010110', 'm': '010111', 't': '01100', 'p': '011010', 'O': '011011000', 'f': '011011001', 'z': '011011010', 'q': '011011011', 'y': '0110111', 'd': '0111', 's': '1000', 'r': '1001', 'n': '1010', 'l': '1011', 'o': '1100', 'b': '110100', 'í': '11010100', 'j': '110101010', 'ó': '110101011', 'c': '1101011', 'u': '11011', ' ': '111'}\n",
      "Primeros 100 bits del mensaje codificado:\n",
      "0110110001101010001111110101111100100101100001101100010001110001011111010101001010001100110011110000\n"
     ]
    }
   ],
   "source": [
    "\n",
    "with open(ruta, 'r', encoding='utf-8') as archivo:\n",
    "    texto = archivo.read()\n",
    "\n",
    "\n",
    "texto_codificado = huffmanenco(texto, codigos)\n",
    "print (codigos)\n",
    "mensaje_binario = ''.join(texto_codificado)\n",
    "\n",
    "print(\"Primeros 100 bits del mensaje codificado:\")\n",
    "print(mensaje_binario[:100])"
   ]
  },
  {
   "cell_type": "markdown",
   "metadata": {
    "id": "zjYqkXIJ3MKQ"
   },
   "source": [
    "# Decodificacion de fuente"
   ]
  },
  {
   "cell_type": "code",
   "execution_count": 96,
   "metadata": {
    "colab": {
     "base_uri": "https://localhost:8080/"
    },
    "executionInfo": {
     "elapsed": 12,
     "status": "ok",
     "timestamp": 1757438712846,
     "user": {
      "displayName": "Sergio Aguirre Godoy",
      "userId": "15816918925180247082"
     },
     "user_tz": 180
    },
    "id": "zEovnHk62iDg",
    "outputId": "b5bb0987-a108-4d48-9843-b4ede3e05372"
   },
   "outputs": [
    {
     "name": "stdout",
     "output_type": "stream",
     "text": [
      "Primeras 200 letras decodificadas:\n",
      "Oíd mortales el grito sagrado libertad libertad libertad oíd el ruido de rotas cadenas ved en trono a la noble igualdad se levanta a la faz de la tierra una nueva y gloriosa nación coronada su sien de\n",
      "Archivo decodificado guardado como 'output.txt'\n"
     ]
    }
   ],
   "source": [
    "\n",
    "texto_reconstruido = huffmandeco(mensaje_binario, codigos)\n",
    "\n",
    "# Convertimos a string si queremos\n",
    "texto_reconstruido_str = ''.join(texto_reconstruido)\n",
    "\n",
    "print(\"Primeras 200 letras decodificadas:\")\n",
    "print(texto_reconstruido_str[:200])\n",
    "\n",
    "\n",
    "guardar_texto_salida(\"output.txt\", texto_reconstruido)\n",
    "print(\"Archivo decodificado guardado como 'output.txt'\")\n"
   ]
  }
 ],
 "metadata": {
  "colab": {
   "provenance": []
  },
  "kernelspec": {
   "display_name": "Python 3",
   "name": "python3"
  },
  "language_info": {
   "codemirror_mode": {
    "name": "ipython",
    "version": 3
   },
   "file_extension": ".py",
   "mimetype": "text/x-python",
   "name": "python",
   "nbconvert_exporter": "python",
   "pygments_lexer": "ipython3",
   "version": "3.11.3"
  }
 },
 "nbformat": 4,
 "nbformat_minor": 0
}
